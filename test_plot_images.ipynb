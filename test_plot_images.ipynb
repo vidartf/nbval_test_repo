{
 "metadata": {
  "name": "",
  "signature": "sha256:ba7455049bfb9bfbfcddcd145aaaef6515df546b845423de1d9b1ead95756756"
 },
 "nbformat": 3,
 "nbformat_minor": 0,
 "worksheets": [
  {
   "cells": [
    {
     "cell_type": "heading",
     "level": 1,
     "metadata": {},
     "source": [
      "Testing (and demonstrating) `plot_images()`"
     ]
    },
    {
     "cell_type": "code",
     "collapsed": false,
     "input": [
      "%matplotlib inline"
     ],
     "language": "python",
     "metadata": {},
     "outputs": [],
     "prompt_number": 1
    },
    {
     "cell_type": "markdown",
     "metadata": {},
     "source": [
      "`plot_images()` is used to plot several images in the same figure. It supports many configurations and has many options available to customize the resulting output. The function returns a list of `matplotlib` axes, which can be used to further customize the figure. Some examples are given below."
     ]
    },
    {
     "cell_type": "heading",
     "level": 2,
     "metadata": {},
     "source": [
      "Default usage"
     ]
    },
    {
     "cell_type": "markdown",
     "metadata": {},
     "source": [
      "A common usage for `plot_images()` is to view the different slices of a multidimensional image (a *hyperimage*):"
     ]
    },
    {
     "cell_type": "code",
     "collapsed": false,
     "input": [
      "import scipy.ndimage\n",
      "image = signals.Image(np.random.random((2, 3, 512, 512)))\n",
      "for i in range(2):\n",
      "    for j in range(3):\n",
      "        image.data[i,j,:] = scipy.misc.lena()*(i+0.5+j)\n",
      "        \n",
      "axes = image.axes_manager\n",
      "axes[2].name = \"x\"\n",
      "axes[3].name = \"y\"\n",
      "axes[2].units = \"nm\"\n",
      "axes[3].units = \"nm\"\n",
      "    \n",
      "image.metadata.General.title = 'multi-dimensional Lena'\n",
      "utils.plot.plot_images(image, tight_layout=True)"
     ],
     "language": "python",
     "metadata": {},
     "outputs": [
      {
       "output_type": "stream",
       "stream": "stderr",
       "text": [
        "C:\\Anaconda\\lib\\site-packages\\matplotlib\\axes\\_base.py:1039: UnicodeWarning: Unicode equal comparison failed to convert both arguments to Unicode - interpreting them as being unequal\n",
        "  if aspect == 'normal':\n",
        "C:\\Anaconda\\lib\\site-packages\\matplotlib\\axes\\_base.py:1044: UnicodeWarning: Unicode equal comparison failed to convert both arguments to Unicode - interpreting them as being unequal\n",
        "  elif aspect in ('equal', 'auto'):\n"
       ]
      },
      {
       "metadata": {},
       "output_type": "pyout",
       "prompt_number": 1,
       "text": [
        "[<matplotlib.axes._subplots.AxesSubplot at 0x17408160>,\n",
        " <matplotlib.axes._subplots.AxesSubplot at 0x178c3978>,\n",
        " <matplotlib.axes._subplots.AxesSubplot at 0x179e22e8>,\n",
        " <matplotlib.axes._subplots.AxesSubplot at 0x17b644a8>,\n",
        " <matplotlib.axes._subplots.AxesSubplot at 0x17d87320>,\n",
        " <matplotlib.axes._subplots.AxesSubplot at 0x17fb6198>]"
       ]
      }
     ],
     "prompt_number": 1
    },
    {
     "cell_type": "heading",
     "level": 2,
     "metadata": {},
     "source": [
      "Specified labels"
     ]
    },
    {
     "cell_type": "markdown",
     "metadata": {},
     "source": [
      "By default, `plot_images()` will attempt to auto-label the images based on the `Signal` titles. The labels (and title) can be customized with the `label` and `suptitle` arguments. In this example, the axes labels and ticks are also disabled with `axes_decor`:"
     ]
    },
    {
     "cell_type": "code",
     "collapsed": false,
     "input": [
      "import scipy.ndimage\n",
      "image = signals.Image(np.random.random((2, 3, 512, 512)))\n",
      "for i in range(2):\n",
      "    for j in range(3):\n",
      "        image.data[i,j,:] = scipy.misc.lena()*(i+0.5+j)\n",
      "        \n",
      "axes = image.axes_manager\n",
      "axes[2].name = \"x\"\n",
      "axes[3].name = \"y\"\n",
      "axes[2].units = \"nm\"\n",
      "axes[3].units = \"nm\"\n",
      "    \n",
      "image.metadata.General.title = 'multi-dimensional Lena'\n",
      "utils.plot.plot_images(image, suptitle='Custom figure title', \n",
      "                       label=['Image 1', 'Image 2', 'Image 3', 'Image 4', 'Image 5', 'Image 6'],\n",
      "                       axes_decor=None, tight_layout=True)"
     ],
     "language": "python",
     "metadata": {},
     "outputs": [
      {
       "metadata": {},
       "output_type": "pyout",
       "prompt_number": 2,
       "text": [
        "[<matplotlib.axes._subplots.AxesSubplot at 0x1adcd5c0>,\n",
        " <matplotlib.axes._subplots.AxesSubplot at 0x1af16e80>,\n",
        " <matplotlib.axes._subplots.AxesSubplot at 0x1b0665f8>,\n",
        " <matplotlib.axes._subplots.AxesSubplot at 0x1afa3978>,\n",
        " <matplotlib.axes._subplots.AxesSubplot at 0x1b4b8d68>,\n",
        " <matplotlib.axes._subplots.AxesSubplot at 0x1ee045c0>]"
       ]
      }
     ],
     "prompt_number": 2
    },
    {
     "cell_type": "heading",
     "level": 2,
     "metadata": {},
     "source": [
      "List of images"
     ]
    },
    {
     "cell_type": "markdown",
     "metadata": {},
     "source": [
      "`plot_images()` can also be used to easily plot a list of `Images`, comparing different `Signals`, including RGB images. This example also demonstrates how to wrap labels using `labelwrap` (for preventing overlap) and using a single `colorbar` for all the `Images`, as opposed to multiple individual ones:"
     ]
    },
    {
     "cell_type": "code",
     "collapsed": false,
     "input": [
      "import scipy.ndimage\n",
      "\n",
      "# load red channel of raccoon as an image\n",
      "image0 = signals.Image(scipy.misc.face()[:,:,0])\n",
      "image0.metadata.General.title = 'Rocky Raccoon - R'\n",
      "axes0 = image0.axes_manager\n",
      "axes0[0].name = \"x\"\n",
      "axes0[1].name = \"y\"\n",
      "axes0[0].units = \"mm\"\n",
      "axes0[1].units = \"mm\"\n",
      "\n",
      "# load lena into 2x3 hyperimage\n",
      "image1 = signals.Image(np.random.random((2, 3, 512, 512)))\n",
      "image1.metadata.General.title = 'multi-dimensional Lena'\n",
      "for i in range(2):\n",
      "    for j in range(3):\n",
      "        image1.data[i,j,:] = scipy.misc.lena()*(i+0.5+j)\n",
      "axes1 = image1.axes_manager\n",
      "axes1[2].name = \"x\"\n",
      "axes1[3].name = \"y\"\n",
      "axes1[2].units = \"nm\"\n",
      "axes1[3].units = \"nm\"\n",
      "\n",
      "# load green channel of raccoon as an image\n",
      "image2 = signals.Image(scipy.misc.face()[:,:,1])\n",
      "image2.metadata.General.title = 'Rocky Raccoon - G'\n",
      "axes2 = image2.axes_manager\n",
      "axes2[0].name = \"x\"\n",
      "axes2[1].name = \"y\"\n",
      "axes2[0].units = \"mm\"\n",
      "axes2[1].units = \"mm\"\n",
      "\n",
      "# load rgb image\n",
      "rgb = signals.Spectrum(scipy.misc.face())\n",
      "rgb.change_dtype(\"rgb8\")\n",
      "rgb.metadata.General.title = 'RGB'\n",
      "axesRGB = rgb.axes_manager\n",
      "axesRGB[0].name = \"x\"\n",
      "axesRGB[1].name = \"y\"\n",
      "axesRGB[0].units = \"nm\"\n",
      "axesRGB[1].units = \"nm\"\n",
      "\n",
      "\n",
      "utils.plot.plot_images([image0, image1, image2, rgb], tight_layout=True,\n",
      "                       colorbar='single', labelwrap=20)"
     ],
     "language": "python",
     "metadata": {},
     "outputs": [
      {
       "output_type": "stream",
       "stream": "stderr",
       "text": [
        "C:\\Anaconda\\lib\\site-packages\\matplotlib\\figure.py:1644: UserWarning: This figure includes Axes that are not compatible with tight_layout, so its results might be incorrect.\n",
        "  warnings.warn(\"This figure includes Axes that are not \"\n"
       ]
      },
      {
       "metadata": {},
       "output_type": "pyout",
       "prompt_number": 3,
       "text": [
        "[<matplotlib.axes._subplots.AxesSubplot at 0x178c3358>,\n",
        " <matplotlib.axes._subplots.AxesSubplot at 0x1aa5b9e8>,\n",
        " <matplotlib.axes._subplots.AxesSubplot at 0x1f360c18>,\n",
        " <matplotlib.axes._subplots.AxesSubplot at 0x1f38c7f0>,\n",
        " <matplotlib.axes._subplots.AxesSubplot at 0x1f3ef898>,\n",
        " <matplotlib.axes._subplots.AxesSubplot at 0x1f550cf8>,\n",
        " <matplotlib.axes._subplots.AxesSubplot at 0x1f41ab38>,\n",
        " <matplotlib.axes._subplots.AxesSubplot at 0x1f65d9b0>,\n",
        " <matplotlib.axes._subplots.AxesSubplot at 0x1f609c50>]"
       ]
      }
     ],
     "prompt_number": 3
    },
    {
     "cell_type": "heading",
     "level": 2,
     "metadata": {},
     "source": [
      "Real-world use"
     ]
    },
    {
     "cell_type": "markdown",
     "metadata": {},
     "source": [
      "Another example for this function is plotting EDS line intensities. Using a spectrum image with EDS data, one can use the following commands to get a representative figure of the line intensities. This example also demonstrates changing the colormap (with `cmap`), adding scalebars to the plots (with `scalebar`), and changing the padding between the images. The `padding` is specified as a dictionary, which is used to call `matplotlib.figure.Figure.subplots_adjust()` (see [documentation](http://matplotlib.org/api/figure_api.html#matplotlib.figure.Figure.subplots_adjust)).\n",
      "Note, this padding can also be changed interactively by clicking on the `subplots_adjust` button (<img src=\"plot_images_subplots.png\" style=\"display:inline-block;vertical-align:bottom\">) in the GUI (button may be different when using different graphical backends)."
     ]
    },
    {
     "cell_type": "markdown",
     "metadata": {},
     "source": [
      "The sample and the data used are described in \n",
      "P. Burdet, et al., Acta Materialia, 61, p. 3090-3098 (2013) (see http://infoscience.epfl.ch/record/185861/)."
     ]
    },
    {
     "cell_type": "markdown",
     "metadata": {},
     "source": [
      "Further information is available in the Hyperspy EDS tutorial: \n",
      "\n",
      " * http://nbviewer.ipython.org/github/hyperspy/hyperspy-demos/blob/master/electron_microscopy/EDS/Hyperpsy_EDS_TEM_tutorial_CAM_2015.ipynb"
     ]
    },
    {
     "cell_type": "code",
     "collapsed": false,
     "input": [
      "from urllib import urlretrieve\n",
      "url = 'http://cook.msm.cam.ac.uk//~hyperspy//EDS_tutorial//'\n",
      "urlretrieve(url + 'core_shell.hdf5', 'core_shell.hdf5')"
     ],
     "language": "python",
     "metadata": {},
     "outputs": []
    },
    {
     "cell_type": "code",
     "collapsed": false,
     "input": [
      "    >>> si_EDS = load(\"core_shell.hdf5\")\n",
      "    >>> im = si_EDS.get_lines_intensity()\n",
      "    >>> utils.plot.plot_images(\n",
      "    >>>     im, tight_layout=True, cmap='RdYlBu_r', axes_decor='off',\n",
      "    >>>     colorbar='single', saturated_pixels=2, scalebar='all', \n",
      "    >>>     scalebar_color='black', suptitle_fontsize=16,\n",
      "    >>>     padding={'top':0.8, 'bottom':0.10, 'left':0.05,\n",
      "    >>>              'right':0.85, 'wspace':0.20, 'hspace':0.10})    "
     ],
     "language": "python",
     "metadata": {},
     "outputs": [
      {
       "metadata": {},
       "output_type": "pyout",
       "prompt_number": 4,
       "text": [
        "[<matplotlib.axes._subplots.AxesSubplot at 0x1fd62eb8>,\n",
        " <matplotlib.axes._subplots.AxesSubplot at 0x20294eb8>]"
       ]
      }
     ],
     "prompt_number": 4
    },
    {
     "cell_type": "code",
     "collapsed": false,
     "input": [],
     "language": "python",
     "metadata": {},
     "outputs": []
    }
   ],
   "metadata": {}
  }
 ]
}