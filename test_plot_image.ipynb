{
 "metadata": {
  "name": "test_plot_image"
 },
 "nbformat": 3,
 "nbformat_minor": 0,
 "worksheets": [
  {
   "cells": [
    {
     "cell_type": "heading",
     "level": 1,
     "metadata": {},
     "source": [
      "Spectrum"
     ]
    },
    {
     "cell_type": "heading",
     "level": 2,
     "metadata": {},
     "source": [
      "Single image"
     ]
    },
    {
     "cell_type": "code",
     "collapsed": false,
     "input": [
      "s = signals.Image((np.arange(500).reshape((50,10))))\n",
      "s.plot()"
     ],
     "language": "python",
     "metadata": {},
     "outputs": [],
     "prompt_number": 2
    },
    {
     "cell_type": "heading",
     "level": 3,
     "metadata": {},
     "source": [
      "Image stack"
     ]
    },
    {
     "cell_type": "heading",
     "level": 4,
     "metadata": {},
     "source": [
      "\"auto\""
     ]
    },
    {
     "cell_type": "code",
     "collapsed": false,
     "input": [
      "s = signals.Image((np.random.random((5, 10,20))))\n",
      "s.plot()"
     ],
     "language": "python",
     "metadata": {},
     "outputs": [],
     "prompt_number": 3
    },
    {
     "cell_type": "heading",
     "level": 4,
     "metadata": {},
     "source": [
      "\"spectrum\""
     ]
    },
    {
     "cell_type": "code",
     "collapsed": false,
     "input": [
      "s = signals.Image((np.random.random((5, 10,20))))\n",
      "s.plot(navigator=\"spectrum\")"
     ],
     "language": "python",
     "metadata": {},
     "outputs": [],
     "prompt_number": 4
    },
    {
     "cell_type": "heading",
     "level": 4,
     "metadata": {},
     "source": [
      "None"
     ]
    },
    {
     "cell_type": "code",
     "collapsed": false,
     "input": [
      "s = signals.Image((np.random.random((5, 10,20))))\n",
      "s.plot(navigator="slider")"
     ],
     "language": "python",
     "metadata": {},
     "outputs": [],
     "prompt_number": 5
    },
    {
     "cell_type": "heading",
     "level": 4,
     "metadata": {},
     "source": [
      "Signal"
     ]
    },
    {
     "cell_type": "code",
     "collapsed": false,
     "input": [
      "s = signals.Image((np.random.random((5, 10,20))))\n",
      "s.plot(navigator=signals.Spectrum(np.arange(5)))"
     ],
     "language": "python",
     "metadata": {},
     "outputs": [],
     "prompt_number": 6
    },
    {
     "cell_type": "heading",
     "level": 3,
     "metadata": {},
     "source": [
      "2D Image stack"
     ]
    },
    {
     "cell_type": "heading",
     "level": 4,
     "metadata": {},
     "source": [
      "auto"
     ]
    },
    {
     "cell_type": "code",
     "collapsed": false,
     "input": [
      "s = signals.Image((np.random.random((5, 10, 10,20))))\n",
      "s.plot(navigator=\"auto\")"
     ],
     "language": "python",
     "metadata": {},
     "outputs": [],
     "prompt_number": 7
    },
    {
     "cell_type": "heading",
     "level": 4,
     "metadata": {},
     "source": [
      "spectrum"
     ]
    },
    {
     "cell_type": "code",
     "collapsed": false,
     "input": [
      "s = signals.Image((np.random.random((5, 10, 10,20))))\n",
      "s.plot(navigator=\"spectrum\")"
     ],
     "language": "python",
     "metadata": {},
     "outputs": [],
     "prompt_number": 11
    },
    {
     "cell_type": "heading",
     "level": 4,
     "metadata": {},
     "source": [
      "None"
     ]
    },
    {
     "cell_type": "code",
     "collapsed": false,
     "input": [
      "s = signals.Image((np.random.random((5, 10, 10,20))))\n",
      "s.plot(navigator="slider")"
     ],
     "language": "python",
     "metadata": {},
     "outputs": [],
     "prompt_number": 12
    },
    {
     "cell_type": "heading",
     "level": 4,
     "metadata": {},
     "source": [
      "Signal"
     ]
    },
    {
     "cell_type": "code",
     "collapsed": false,
     "input": [
      "s = signals.Image((np.random.random((5, 10, 10,20))))\n",
      "s.plot(navigator=signals.Image(np.zeros((5,10))))"
     ],
     "language": "python",
     "metadata": {},
     "outputs": [
      {
       "output_type": "stream",
       "stream": "stderr",
       "text": ""
       ]
      }
     ],
     "prompt_number": 13
    },
    {
     "cell_type": "code",
     "collapsed": false,
     "input": [
      "s = signals.Image((np.random.random((5, 10, 10,20))))\n",
      "s.plot(navigator=signals.Spectrum(np.zeros((10))))"
     ],
     "language": "python",
     "metadata": {},
     "outputs": [],
     "prompt_number": 14
    },
    {
     "cell_type": "code",
     "collapsed": false,
     "input": [
      "s = signals.Image((np.random.random((5, 10, 10,20))))\n",
      "s.plot(navigator=signals.Spectrum(np.random.random((5,10))))"
     ],
     "language": "python",
     "metadata": {},
     "outputs": [],
     "prompt_number": 15
    },
    {
     "cell_type": "heading",
     "level": 3,
     "metadata": {},
     "source": [
      "3D image stack"
     ]
    },
    {
     "cell_type": "heading",
     "level": 4,
     "metadata": {},
     "source": [
      "auto"
     ]
    },
    {
     "cell_type": "code",
     "collapsed": false,
     "input": [
      "s = signals.Image((np.random.random((3,5, 10, 10,20))))\n",
      "s.plot(navigator=\"auto\")"
     ],
     "language": "python",
     "metadata": {},
     "outputs": [],
     "prompt_number": 16
    },
    {
     "cell_type": "heading",
     "level": 4,
     "metadata": {},
     "source": [
      "spectrum"
     ]
    },
    {
     "cell_type": "code",
     "collapsed": false,
     "input": [
      "s = signals.Image((np.random.random((3,5, 10, 10,20))))\n",
      "s.plot(navigator=\"spectrum\")"
     ],
     "language": "python",
     "metadata": {},
     "outputs": [],
     "prompt_number": 18
    },
    {
     "cell_type": "heading",
     "level": 4,
     "metadata": {},
     "source": [
      "None"
     ]
    },
    {
     "cell_type": "code",
     "collapsed": false,
     "input": [
      "s = signals.Image((np.random.random((3,5, 10, 10,20))))\n",
      "s.plot(navigator="slider")"
     ],
     "language": "python",
     "metadata": {},
     "outputs": [],
     "prompt_number": 3
    },
    {
     "cell_type": "heading",
     "level": 4,
     "metadata": {},
     "source": [
      "Signal"
     ]
    },
    {
     "cell_type": "code",
     "collapsed": false,
     "input": [
      "s = signals.Image((np.random.random((3,5, 10, 10,20))))\n",
      "s.plot(navigator=signals.Image(np.zeros((5,10))))"
     ],
     "language": "python",
     "metadata": {},
     "outputs": [
      {
       "output_type": "stream",
       "stream": "stderr",
       "text": [
        "/home/fjd29/Documents/Software/EPD/EPD7.3-2/epd-7.3-2-rh5-x86_64/lib/python2.7/site-packages/matplotlib/colorbar.py:808: RuntimeWarning: invalid value encountered in divide\n",
        "  z = np.take(y, i0) + (xn-np.take(b,i0))*dy/db\n"
       ]
      }
     ],
     "prompt_number": 3
    },
    {
     "cell_type": "code",
     "collapsed": false,
     "input": [
      "s = signals.Image((np.random.random((3,5, 10, 10,20))))\n",
      "s.plot(navigator=signals.Spectrum(arange(10)))"
     ],
     "language": "python",
     "metadata": {},
     "outputs": [],
     "prompt_number": 20
    },
    {
     "cell_type": "code",
     "collapsed": false,
     "input": [
      "s = signals.Image((np.random.random((3,5, 10, 10,20))))\n",
      "s.plot(navigator=signals.Image(np.random.random((3, 5, 10))))"
     ],
     "language": "python",
     "metadata": {},
     "outputs": [],
     "prompt_number": 2
    },
    {
     "cell_type": "code",
     "collapsed": false,
     "input": [
      "s = signals.Image((np.random.random((3,5, 10, 10,20))))\n",
      "s.plot(navigator=signals.Spectrum(np.random.random((3, 5, 10))))"
     ],
     "language": "python",
     "metadata": {},
     "outputs": [],
     "prompt_number": 1
    }
   ],
   "metadata": {}
  }
 ]
}
