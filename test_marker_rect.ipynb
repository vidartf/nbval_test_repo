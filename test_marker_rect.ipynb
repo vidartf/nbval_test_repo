{
 "metadata": {
  "name": "",
  "signature": "sha256:fc9d0812fc3d40290bafebe34952e1532bba6003af3120d290897af4e274b07d"
 },
 "nbformat": 3,
 "nbformat_minor": 0,
 "worksheets": [
  {
   "cells": [
    {
     "cell_type": "code",
     "collapsed": false,
     "input": [
      "# Create test image 100x100 pixels:\n",
      "img = signals.Image(np.zeros((100,100)))\n",
      "\n",
      "# Add four line markers:\n",
      "m1 = utils.plot.markers.line_segment(x1=20,y1=20,x2=70,y2=20,color='red',linewidth=3)\n",
      "m2 = utils.plot.markers.line_segment(x1=20,y1=20,x2=20,y2=70,color='red',linewidth=3)\n",
      "m3 = utils.plot.markers.line_segment(x1=20,y1=70,x2=70,y2=70,color='red',linewidth=3)\n",
      "m4 = utils.plot.markers.line_segment(x1=70,y1=20,x2=70,y2=70,color='red',linewidth=3)\n",
      "\n",
      "# Add rectangle marker at same position:\n",
      "m = utils.plot.markers.rectangle(x1=20,x2=70,y1=20,y2=70,linewidth=4,color='blue',ls='dotted')\n",
      "\n",
      "\n",
      "# Plot image and add markers to img:\n",
      "img.plot()\n",
      "img.add_marker(m)\n",
      "img.add_marker(m1)\n",
      "img.add_marker(m2)\n",
      "img.add_marker(m3)\n",
      "img.add_marker(m4)"
     ],
     "language": "python",
     "metadata": {},
     "outputs": [
      {
       "output_type": "stream",
       "stream": "stderr",
       "text": [
        "C:\\Anaconda\\lib\\site-packages\\matplotlib\\axes\\_base.py:1039: UnicodeWarning: Unicode equal comparison failed to convert both arguments to Unicode - interpreting them as being unequal\n",
        "  if aspect == 'normal':\n",
        "C:\\Anaconda\\lib\\site-packages\\matplotlib\\axes\\_base.py:1044: UnicodeWarning: Unicode equal comparison failed to convert both arguments to Unicode - interpreting them as being unequal\n",
        "  elif aspect in ('equal', 'auto'):\n"
       ]
      }
     ],
     "prompt_number": 2
    },
    {
     "cell_type": "code",
     "collapsed": false,
     "input": [],
     "language": "python",
     "metadata": {},
     "outputs": []
    }
   ],
   "metadata": {}
  }
 ]
}