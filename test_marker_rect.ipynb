{
 "metadata": {
  "name": "",
  "signature": "sha256:eb7446affb4368e4e6992b0c7eaed43125457a902824fa2c28541a61a228e0a7"
 },
 "nbformat": 3,
 "nbformat_minor": 0,
 "worksheets": [
  {
   "cells": [
    {
     "cell_type": "code",
     "collapsed": false,
     "input": [
      "# Create test image 100x100 pixels:\n",
      "img = signals.Image(np.zeros((100,100)))\n",
      "\n",
      "# Add four line markers:\n",
      "m1 = utils.plot.marker()\n",
      "m2 = utils.plot.marker()\n",
      "m3 = utils.plot.marker()\n",
      "m4 = utils.plot.marker()\n",
      "m1.type = 'line'\n",
      "m2.type = 'line'\n",
      "m3.type = 'line'\n",
      "m4.type = 'line'\n",
      "m1.set_marker_properties(color='red',linewidth=3)\n",
      "m2.set_marker_properties(color='red',linewidth=3)\n",
      "m3.set_marker_properties(color='red',linewidth=3)\n",
      "m4.set_marker_properties(color='red',linewidth=3)\n",
      "m1.set_data(x1=20,y1=20,x2=70,y2=20)\n",
      "m2.set_data(x1=20,y1=20,x2=20,y2=70)\n",
      "m3.set_data(x1=20,y1=70,x2=70,y2=70)\n",
      "m4.set_data(x1=70,y1=20,x2=70,y2=70)\n",
      "\n",
      "# Add rectangle marker at same position:\n",
      "m = utils.plot.marker()\n",
      "m.type = 'rect'\n",
      "m.set_marker_properties(linewidth=4,color='blue',ls='dotted')\n",
      "m.set_data(x1=20,x2=70,y1=20,y2=70)\n",
      "\n",
      "# Plot image and add markers to img:\n",
      "img.plot()\n",
      "img._plot.signal_plot.add_marker(m)\n",
      "img._plot.signal_plot.add_marker(m1)\n",
      "img._plot.signal_plot.add_marker(m2)\n",
      "img._plot.signal_plot.add_marker(m3)\n",
      "img._plot.signal_plot.add_marker(m4)\n",
      "\n",
      "# Plot markers:\n",
      "m.plot()\n",
      "m1.plot()\n",
      "m2.plot()\n",
      "m3.plot()\n",
      "m4.plot()"
     ],
     "language": "python",
     "metadata": {},
     "outputs": []
    }
   ],
   "metadata": {}
  }
 ]
}